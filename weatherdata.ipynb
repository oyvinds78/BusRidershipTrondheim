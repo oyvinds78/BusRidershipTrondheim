version https://git-lfs.github.com/spec/v1
oid sha256:a17063a1b70fbe73d6d532b39dd15337b91bb81abe8f6bce73b4a4c70063a7eb
size 126630
