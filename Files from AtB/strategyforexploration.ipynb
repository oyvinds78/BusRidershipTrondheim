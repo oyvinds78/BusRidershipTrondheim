version https://git-lfs.github.com/spec/v1
oid sha256:1df4d030f10219a0ad0a07d3e15846c9b17af7c5ffca2616b6dcdf7cc22ce542
size 50075
