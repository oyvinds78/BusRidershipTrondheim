version https://git-lfs.github.com/spec/v1
oid sha256:d13b80bb78c02189f7b190a115d1da30f8c13497c4fe390aff1b6df81eb1cfec
size 584161
